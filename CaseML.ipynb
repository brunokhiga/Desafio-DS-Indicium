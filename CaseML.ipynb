{
 "cells": [
  {
   "cell_type": "code",
   "execution_count": 12,
   "id": "25faf355",
   "metadata": {},
   "outputs": [],
   "source": [
    "import pandas as pd\n",
    "import numpy as np\n",
    "import matplotlib.pyplot as plt\n",
    "from sklearn.tree import DecisionTreeClassifier\n",
    "from sklearn.metrics import accuracy_score\n",
    "from sklearn.model_selection import train_test_split"
   ]
  },
  {
   "cell_type": "markdown",
   "id": "8ceb3282",
   "metadata": {},
   "source": [
    "# Importando a base de dados para treino"
   ]
  },
  {
   "cell_type": "code",
   "execution_count": 13,
   "id": "bb7d3e00",
   "metadata": {},
   "outputs": [
    {
     "data": {
      "text/html": [
       "<div>\n",
       "<style scoped>\n",
       "    .dataframe tbody tr th:only-of-type {\n",
       "        vertical-align: middle;\n",
       "    }\n",
       "\n",
       "    .dataframe tbody tr th {\n",
       "        vertical-align: top;\n",
       "    }\n",
       "\n",
       "    .dataframe thead th {\n",
       "        text-align: right;\n",
       "    }\n",
       "</style>\n",
       "<table border=\"1\" class=\"dataframe\">\n",
       "  <thead>\n",
       "    <tr style=\"text-align: right;\">\n",
       "      <th></th>\n",
       "      <th>udi</th>\n",
       "      <th>product_id</th>\n",
       "      <th>type</th>\n",
       "      <th>air_temperature_k</th>\n",
       "      <th>process_temperature_k</th>\n",
       "      <th>rotational_speed_rpm</th>\n",
       "      <th>torque_nm</th>\n",
       "      <th>tool_wear_min</th>\n",
       "      <th>failure_type</th>\n",
       "    </tr>\n",
       "  </thead>\n",
       "  <tbody>\n",
       "    <tr>\n",
       "      <th>0</th>\n",
       "      <td>1</td>\n",
       "      <td>M14860</td>\n",
       "      <td>M</td>\n",
       "      <td>298.1</td>\n",
       "      <td>308.6</td>\n",
       "      <td>1551</td>\n",
       "      <td>42.8</td>\n",
       "      <td>0</td>\n",
       "      <td>No Failure</td>\n",
       "    </tr>\n",
       "    <tr>\n",
       "      <th>1</th>\n",
       "      <td>2</td>\n",
       "      <td>L47181</td>\n",
       "      <td>L</td>\n",
       "      <td>298.2</td>\n",
       "      <td>308.7</td>\n",
       "      <td>1408</td>\n",
       "      <td>46.3</td>\n",
       "      <td>3</td>\n",
       "      <td>No Failure</td>\n",
       "    </tr>\n",
       "    <tr>\n",
       "      <th>2</th>\n",
       "      <td>5</td>\n",
       "      <td>L47184</td>\n",
       "      <td>L</td>\n",
       "      <td>298.2</td>\n",
       "      <td>308.7</td>\n",
       "      <td>1408</td>\n",
       "      <td>40.0</td>\n",
       "      <td>9</td>\n",
       "      <td>No Failure</td>\n",
       "    </tr>\n",
       "    <tr>\n",
       "      <th>3</th>\n",
       "      <td>6</td>\n",
       "      <td>M14865</td>\n",
       "      <td>M</td>\n",
       "      <td>298.1</td>\n",
       "      <td>308.6</td>\n",
       "      <td>1425</td>\n",
       "      <td>41.9</td>\n",
       "      <td>11</td>\n",
       "      <td>No Failure</td>\n",
       "    </tr>\n",
       "    <tr>\n",
       "      <th>4</th>\n",
       "      <td>7</td>\n",
       "      <td>L47186</td>\n",
       "      <td>L</td>\n",
       "      <td>298.1</td>\n",
       "      <td>308.6</td>\n",
       "      <td>1558</td>\n",
       "      <td>42.4</td>\n",
       "      <td>14</td>\n",
       "      <td>No Failure</td>\n",
       "    </tr>\n",
       "  </tbody>\n",
       "</table>\n",
       "</div>"
      ],
      "text/plain": [
       "   udi product_id type  air_temperature_k  process_temperature_k  \\\n",
       "0    1     M14860    M              298.1                  308.6   \n",
       "1    2     L47181    L              298.2                  308.7   \n",
       "2    5     L47184    L              298.2                  308.7   \n",
       "3    6     M14865    M              298.1                  308.6   \n",
       "4    7     L47186    L              298.1                  308.6   \n",
       "\n",
       "   rotational_speed_rpm  torque_nm  tool_wear_min failure_type  \n",
       "0                  1551       42.8              0   No Failure  \n",
       "1                  1408       46.3              3   No Failure  \n",
       "2                  1408       40.0              9   No Failure  \n",
       "3                  1425       41.9             11   No Failure  \n",
       "4                  1558       42.4             14   No Failure  "
      ]
     },
     "execution_count": 13,
     "metadata": {},
     "output_type": "execute_result"
    }
   ],
   "source": [
    "# importando o dataset e vendo uma prévia do dataframe\n",
    "dataset_train = pd.read_csv(\"desafio_manutencao_preditiva_treino.csv\")\n",
    "dataset_train.head()"
   ]
  },
  {
   "cell_type": "code",
   "execution_count": 14,
   "id": "e491ab8b",
   "metadata": {},
   "outputs": [
    {
     "name": "stdout",
     "output_type": "stream",
     "text": [
      "udi                      0\n",
      "product_id               0\n",
      "type                     0\n",
      "air_temperature_k        0\n",
      "process_temperature_k    0\n",
      "rotational_speed_rpm     0\n",
      "torque_nm                0\n",
      "tool_wear_min            0\n",
      "failure_type             0\n",
      "dtype: int64\n"
     ]
    }
   ],
   "source": [
    "# verificando se existem NaN values no dataframe\n",
    "nan_values = dataset_train.isna()\n",
    "print(nan_values.sum())"
   ]
  },
  {
   "cell_type": "code",
   "execution_count": 15,
   "id": "f71a3360",
   "metadata": {},
   "outputs": [
    {
     "data": {
      "image/png": "[encoded data removed]",
      "text/plain": [
       "<Figure size 640x480 with 1 Axes>"
      ]
     },
     "metadata": {},
     "output_type": "display_data"
    }
   ],
   "source": [
    "dataset_train[dataset_train['failure_type'] != 'No Failure']['failure_type'].value_counts().plot(kind='bar')\n",
    "plt.title(\"Ocorrência por tipo de falha\")\n",
    "plt.xlabel(\"Falha\")\n",
    "plt.ylabel(\"Frequência\")\n",
    "plt.show()"
   ]
  },
  {
   "cell_type": "markdown",
   "id": "23a214ab",
   "metadata": {},
   "source": [
    "# Testando correlações para a escolha do modelo a ser utilizado"
   ]
  },
  {
   "cell_type": "code",
   "execution_count": 16,
   "id": "edb72844",
   "metadata": {},
   "outputs": [
    {
     "data": {
      "text/html": [
       "<div>\n",
       "<style scoped>\n",
       "    .dataframe tbody tr th:only-of-type {\n",
       "        vertical-align: middle;\n",
       "    }\n",
       "\n",
       "    .dataframe tbody tr th {\n",
       "        vertical-align: top;\n",
       "    }\n",
       "\n",
       "    .dataframe thead th {\n",
       "        text-align: right;\n",
       "    }\n",
       "</style>\n",
       "<table border=\"1\" class=\"dataframe\">\n",
       "  <thead>\n",
       "    <tr style=\"text-align: right;\">\n",
       "      <th></th>\n",
       "      <th>air_temperature_k</th>\n",
       "      <th>process_temperature_k</th>\n",
       "      <th>rotational_speed_rpm</th>\n",
       "      <th>torque_nm</th>\n",
       "      <th>tool_wear_min</th>\n",
       "    </tr>\n",
       "  </thead>\n",
       "  <tbody>\n",
       "    <tr>\n",
       "      <th>air_temperature_k</th>\n",
       "      <td>1.000000</td>\n",
       "      <td>0.875724</td>\n",
       "      <td>0.035903</td>\n",
       "      <td>-0.023257</td>\n",
       "      <td>0.021078</td>\n",
       "    </tr>\n",
       "    <tr>\n",
       "      <th>process_temperature_k</th>\n",
       "      <td>0.875724</td>\n",
       "      <td>1.000000</td>\n",
       "      <td>0.033379</td>\n",
       "      <td>-0.024457</td>\n",
       "      <td>0.020298</td>\n",
       "    </tr>\n",
       "    <tr>\n",
       "      <th>rotational_speed_rpm</th>\n",
       "      <td>0.035903</td>\n",
       "      <td>0.033379</td>\n",
       "      <td>1.000000</td>\n",
       "      <td>-0.875989</td>\n",
       "      <td>-0.001290</td>\n",
       "    </tr>\n",
       "    <tr>\n",
       "      <th>torque_nm</th>\n",
       "      <td>-0.023257</td>\n",
       "      <td>-0.024457</td>\n",
       "      <td>-0.875989</td>\n",
       "      <td>1.000000</td>\n",
       "      <td>-0.004343</td>\n",
       "    </tr>\n",
       "    <tr>\n",
       "      <th>tool_wear_min</th>\n",
       "      <td>0.021078</td>\n",
       "      <td>0.020298</td>\n",
       "      <td>-0.001290</td>\n",
       "      <td>-0.004343</td>\n",
       "      <td>1.000000</td>\n",
       "    </tr>\n",
       "  </tbody>\n",
       "</table>\n",
       "</div>"
      ],
      "text/plain": [
       "                       air_temperature_k  process_temperature_k  \\\n",
       "air_temperature_k               1.000000               0.875724   \n",
       "process_temperature_k           0.875724               1.000000   \n",
       "rotational_speed_rpm            0.035903               0.033379   \n",
       "torque_nm                      -0.023257              -0.024457   \n",
       "tool_wear_min                   0.021078               0.020298   \n",
       "\n",
       "                       rotational_speed_rpm  torque_nm  tool_wear_min  \n",
       "air_temperature_k                  0.035903  -0.023257       0.021078  \n",
       "process_temperature_k              0.033379  -0.024457       0.020298  \n",
       "rotational_speed_rpm               1.000000  -0.875989      -0.001290  \n",
       "torque_nm                         -0.875989   1.000000      -0.004343  \n",
       "tool_wear_min                     -0.001290  -0.004343       1.000000  "
      ]
     },
     "execution_count": 16,
     "metadata": {},
     "output_type": "execute_result"
    }
   ],
   "source": [
    "# vamos verificar se as variáveis são dependentes ou independentes entre si\n",
    "# para isso, calcularemos as correlações entre cada uma das variáveis\n",
    "list_corr = []\n",
    "for i in range(5):\n",
    "    linha = []\n",
    "    for j in range(5):\n",
    "        col1 = dataset_train.iloc[:, i+3]\n",
    "        col2 = dataset_train.iloc[:, j+3]\n",
    "        corr = col1.corr(col2)\n",
    "        linha.append(corr)\n",
    "    list_corr.append(linha)\n",
    "\n",
    "dataframe_corr = pd.DataFrame(list_corr, columns=['air_temperature_k', 'process_temperature_k', 'rotational_speed_rpm', 'torque_nm', 'tool_wear_min'],\n",
    "                             index=['air_temperature_k', 'process_temperature_k', 'rotational_speed_rpm', 'torque_nm', 'tool_wear_min'])\n",
    "dataframe_corr"
   ]
  },
  {
   "cell_type": "markdown",
   "id": "ed0ee79c",
   "metadata": {},
   "source": [
    "# Treinando o modelo de ML"
   ]
  },
  {
   "cell_type": "code",
   "execution_count": 17,
   "id": "fe3f0f76",
   "metadata": {},
   "outputs": [
    {
     "data": {
      "text/plain": [
       "0.9767616191904048"
      ]
     },
     "execution_count": 17,
     "metadata": {},
     "output_type": "execute_result"
    }
   ],
   "source": [
    "# as variáveis se monstraram independentes entre si na maioria dos casos\n",
    "# vamos utilizar o modelo de Decision Tree\n",
    "# testaremos o modelo utilizando 80% para treinamento do modelo e 20% para teste\n",
    "# aqui eu utilizei apenas as colunas com dados numéricos com exceção da udi\n",
    "# acredito que deveria ter utilizado a coluna type também, mas não consegui fazer isto\n",
    "# pensei em transformar as letras em números mas concluí que isto resultaria em erros na precisão do modelo\n",
    "X = dataset_train.iloc[:, 3:8]\n",
    "y = dataset_train.iloc[:, 8]\n",
    "\n",
    "X_train, X_test, y_train, y_test = train_test_split(X, y, test_size=0.2)\n",
    "\n",
    "model = DecisionTreeClassifier()\n",
    "model.fit(X_train, y_train)\n",
    "\n",
    "predictions_train = model.predict(X_test)\n",
    "\n",
    "accuracy_score(y_test, predictions_train)"
   ]
  },
  {
   "cell_type": "code",
   "execution_count": 18,
   "id": "37a8dbaf",
   "metadata": {},
   "outputs": [
    {
     "data": {
      "text/plain": [
       "1.0"
      ]
     },
     "execution_count": 18,
     "metadata": {},
     "output_type": "execute_result"
    }
   ],
   "source": [
    "# sabemos que para o treino com parte da base de dados, a acurácia fica em torno de 97%\n",
    "# agora treinaremos o modelo com 100% da base de dados para maior precisão\n",
    "X = dataset_train.iloc[:, 3:8]\n",
    "y = dataset_train.iloc[:, 8]\n",
    "\n",
    "X_train, X_test, y_train, y_test = train_test_split(X, y, test_size=1)\n",
    "\n",
    "model = DecisionTreeClassifier()\n",
    "model.fit(X_train, y_train)\n",
    "\n",
    "predictions_train = model.predict(X_test)\n",
    "\n",
    "accuracy_score(y_test, predictions_train)"
   ]
  },
  {
   "cell_type": "code",
   "execution_count": 19,
   "id": "c0d1caaf",
   "metadata": {},
   "outputs": [
    {
     "data": {
      "text/plain": [
       "failure_type\n",
       "Heat Dissipation Failure      75\n",
       "No Failure                  6435\n",
       "Overstrain Failure            52\n",
       "Power Failure                 63\n",
       "Random Failures               12\n",
       "Tool Wear Failure             30\n",
       "Name: product_id, dtype: int64"
      ]
     },
     "execution_count": 19,
     "metadata": {},
     "output_type": "execute_result"
    }
   ],
   "source": [
    "dataset_train.groupby('failure_type')[\"product_id\"].count()"
   ]
  },
  {
   "cell_type": "markdown",
   "id": "307c9508",
   "metadata": {},
   "source": [
    "# Importando a base de dados para teste"
   ]
  },
  {
   "cell_type": "code",
   "execution_count": 20,
   "id": "cef479db",
   "metadata": {},
   "outputs": [
    {
     "data": {
      "text/plain": [
       "air_temperature_k        0\n",
       "process_temperature_k    0\n",
       "rotational_speed_rpm     0\n",
       "torque_nm                0\n",
       "tool_wear_min            0\n",
       "dtype: int64"
      ]
     },
     "execution_count": 20,
     "metadata": {},
     "output_type": "execute_result"
    }
   ],
   "source": [
    "# vamos importar o csv de teste do modelo e ajustar as colunas\n",
    "# assim como fizemos no csv de treino\n",
    "dataset_test = pd.read_csv(\"desafio_manutencao_preditiva_teste.csv\")\n",
    "dataset_test = dataset_test.iloc[:, 3:]\n",
    "dataset_test.isna().sum()"
   ]
  },
  {
   "cell_type": "code",
   "execution_count": 21,
   "id": "46b138c0",
   "metadata": {},
   "outputs": [
    {
     "name": "stdout",
     "output_type": "stream",
     "text": [
      "['No Failure' 'No Failure' 'No Failure' ... 'No Failure' 'No Failure'\n",
      " 'No Failure']\n"
     ]
    }
   ],
   "source": [
    "# aplicando o modelo para esta nova base de dados nomeada de dataset_test\n",
    "predictions_test = model.predict(dataset_test)\n",
    "print(predictions_test)"
   ]
  },
  {
   "cell_type": "code",
   "execution_count": 22,
   "id": "2bbcda1d",
   "metadata": {},
   "outputs": [
    {
     "data": {
      "text/html": [
       "<div>\n",
       "<style scoped>\n",
       "    .dataframe tbody tr th:only-of-type {\n",
       "        vertical-align: middle;\n",
       "    }\n",
       "\n",
       "    .dataframe tbody tr th {\n",
       "        vertical-align: top;\n",
       "    }\n",
       "\n",
       "    .dataframe thead th {\n",
       "        text-align: right;\n",
       "    }\n",
       "</style>\n",
       "<table border=\"1\" class=\"dataframe\">\n",
       "  <thead>\n",
       "    <tr style=\"text-align: right;\">\n",
       "      <th></th>\n",
       "      <th>air_temperature_k</th>\n",
       "      <th>process_temperature_k</th>\n",
       "      <th>rotational_speed_rpm</th>\n",
       "      <th>torque_nm</th>\n",
       "      <th>tool_wear_min</th>\n",
       "      <th>predictedValues</th>\n",
       "    </tr>\n",
       "  </thead>\n",
       "  <tbody>\n",
       "    <tr>\n",
       "      <th>0</th>\n",
       "      <td>297.5</td>\n",
       "      <td>308.6</td>\n",
       "      <td>1793</td>\n",
       "      <td>26.7</td>\n",
       "      <td>70</td>\n",
       "      <td>No Failure</td>\n",
       "    </tr>\n",
       "    <tr>\n",
       "      <th>1</th>\n",
       "      <td>300.7</td>\n",
       "      <td>310.5</td>\n",
       "      <td>1536</td>\n",
       "      <td>47.4</td>\n",
       "      <td>192</td>\n",
       "      <td>No Failure</td>\n",
       "    </tr>\n",
       "    <tr>\n",
       "      <th>2</th>\n",
       "      <td>297.2</td>\n",
       "      <td>308.4</td>\n",
       "      <td>1460</td>\n",
       "      <td>42.1</td>\n",
       "      <td>41</td>\n",
       "      <td>No Failure</td>\n",
       "    </tr>\n",
       "    <tr>\n",
       "      <th>3</th>\n",
       "      <td>299.4</td>\n",
       "      <td>309.1</td>\n",
       "      <td>1670</td>\n",
       "      <td>35.9</td>\n",
       "      <td>68</td>\n",
       "      <td>No Failure</td>\n",
       "    </tr>\n",
       "    <tr>\n",
       "      <th>4</th>\n",
       "      <td>304.1</td>\n",
       "      <td>313.1</td>\n",
       "      <td>1550</td>\n",
       "      <td>30.9</td>\n",
       "      <td>9</td>\n",
       "      <td>No Failure</td>\n",
       "    </tr>\n",
       "  </tbody>\n",
       "</table>\n",
       "</div>"
      ],
      "text/plain": [
       "   air_temperature_k  process_temperature_k  rotational_speed_rpm  torque_nm  \\\n",
       "0              297.5                  308.6                  1793       26.7   \n",
       "1              300.7                  310.5                  1536       47.4   \n",
       "2              297.2                  308.4                  1460       42.1   \n",
       "3              299.4                  309.1                  1670       35.9   \n",
       "4              304.1                  313.1                  1550       30.9   \n",
       "\n",
       "   tool_wear_min predictedValues  \n",
       "0             70      No Failure  \n",
       "1            192      No Failure  \n",
       "2             41      No Failure  \n",
       "3             68      No Failure  \n",
       "4              9      No Failure  "
      ]
     },
     "execution_count": 22,
     "metadata": {},
     "output_type": "execute_result"
    }
   ],
   "source": [
    "# adicionamos a array predictions_test à uma cópia do dataset_test\n",
    "# e nomeamos a nova coluna de predictedValues\n",
    "dataset_predicted = dataset_test.copy()\n",
    "\n",
    "dataset_predicted['predictedValues'] = predictions_test\n",
    "\n",
    "dataset_predicted.head()"
   ]
  },
  {
   "cell_type": "code",
   "execution_count": 24,
   "id": "fac8e0bc",
   "metadata": {},
   "outputs": [
    {
     "data": {
      "image/png": "[encoded data removed]",
      "text/plain": [
       "<Figure size 640x480 with 1 Axes>"
      ]
     },
     "metadata": {},
     "output_type": "display_data"
    }
   ],
   "source": [
    "dataset_predicted[dataset_predicted['predictedValues'] != 'No Failure']['predictedValues'].value_counts().plot(kind='bar')\n",
    "plt.title(\"Ocorrência por tipo de falha\")\n",
    "plt.xlabel(\"Falha\")\n",
    "plt.ylabel(\"Frequência\")\n",
    "plt.show()"
   ]
  },
  {
   "cell_type": "code",
   "execution_count": 53,
   "id": "f5ac77a0",
   "metadata": {},
   "outputs": [],
   "source": [
    "# exportando o dataframe com as colunas índex e predictedValues para o formato .csv\n",
    "planilha_excel = dataset_predicted['predictedValues']\n",
    "\n",
    "planilha_excel.to_csv(\"predicted.csv\", index=True)"
   ]
  }
 ],
 "metadata": {
  "kernelspec": {
   "display_name": "Python 3 (ipykernel)",
   "language": "python",
   "name": "python3"
  },
  "language_info": {
   "codemirror_mode": {
    "name": "ipython",
    "version": 3
   },
   "file_extension": ".py",
   "mimetype": "text/x-python",
   "name": "python",
   "nbconvert_exporter": "python",
   "pygments_lexer": "ipython3",
   "version": "3.11.1"
  }
 },
 "nbformat": 4,
 "nbformat_minor": 5
}
